{
 "cells": [
  {
   "cell_type": "markdown",
   "metadata": {},
   "source": [
    "### Libraries"
   ]
  },
  {
   "cell_type": "code",
   "execution_count": 1,
   "metadata": {},
   "outputs": [],
   "source": [
    "from gurobipy import *\n",
    "from sklearn.datasets import make_blobs\n",
    "import matplotlib.pyplot as plt\n",
    "import numpy as np\n",
    "from scipy.spatial import distance"
   ]
  },
  {
   "cell_type": "code",
   "execution_count": 2,
   "metadata": {},
   "outputs": [],
   "source": [
    "num_cl_nodes,num_ncl_nodes,num_permanent_lanes,num_transient_lanes,num_clusters,num_carriers = 2,2,[2,2],[1,1],2,2\n",
    "\n",
    "nodes = np.concatenate((make_blobs(n_samples=num_cl_nodes, centers=num_clusters, cluster_std=30, random_state=10,center_box=(0, 1000))[0], make_blobs(n_samples=num_ncl_nodes, centers=num_ncl_nodes, cluster_std=0.60, random_state=0,center_box=(0, 1000))[0]))\n",
    "\n",
    "num_lanes = sum(num_permanent_lanes) + sum(num_transient_lanes)\n",
    "total_lanes = [num_permanent_lanes[i] + num_transient_lanes[i] for i in range(num_carriers)]\n",
    "\n",
    "np.random.seed(0)\n",
    "permanent_lanes = np.random.randint(0,len(nodes),[sum(num_permanent_lanes),2])\n",
    "for j in range(sum(num_permanent_lanes)):\n",
    "    if permanent_lanes[j][0] == permanent_lanes[j][1]:\n",
    "        if j == 0:\n",
    "            permanent_lanes[j] = [0,1]\n",
    "        else:\n",
    "            permanent_lanes[j] = permanent_lanes[0]\n",
    "\n",
    "np.random.seed(1)\n",
    "transient_lanes = np.random.randint(0,len(nodes),[sum(num_transient_lanes),2])\n",
    "for j in range(sum(num_transient_lanes)):\n",
    "    if transient_lanes[j][0] == transient_lanes[j][1]:\n",
    "        if j == 0:\n",
    "            transient_lanes[j] = [0,1]\n",
    "        else:\n",
    "            transient_lanes[j] = transient_lanes[0]\n",
    "\n",
    "distance_matrix = distance.cdist(nodes, nodes, 'euclidean')\n",
    "\n",
    "carrier_idx_pr = np.ones((1,1))\n",
    "for k in range(num_carriers):\n",
    "    temp = np.ones((num_permanent_lanes[k],1))*k\n",
    "    carrier_idx_pr = np.vstack((carrier_idx_pr, temp))\n",
    "carrier_idx_pr = np.delete(carrier_idx_pr, (0), axis=0)\n",
    "\n",
    "carrier_idx_tr = np.ones((1,1))\n",
    "for k in range(num_carriers):\n",
    "    temp = np.ones((num_transient_lanes[k],1))*k\n",
    "    carrier_idx_tr = np.vstack((carrier_idx_tr, temp))\n",
    "carrier_idx_tr = np.delete(carrier_idx_tr, (0), axis=0)\n",
    "\n",
    "carrier_idx = np.vstack((carrier_idx_pr, carrier_idx_tr))\n",
    "\n",
    "permanent_lanes = np.hstack((permanent_lanes, carrier_idx_pr))\n",
    "transient_lanes = np.hstack((transient_lanes, carrier_idx_tr))\n",
    "\n",
    "lanes = np.concatenate((permanent_lanes,transient_lanes))"
   ]
  },
  {
   "cell_type": "code",
   "execution_count": 3,
   "metadata": {},
   "outputs": [
    {
     "data": {
      "image/png": "[encoded data removed]",
      "text/plain": [
       "<Figure size 1080x576 with 1 Axes>"
      ]
     },
     "metadata": {
      "needs_background": "light"
     },
     "output_type": "display_data"
    }
   ],
   "source": [
    "# points = np.concatenate((permanent_lanes, transient_lanes))\n",
    "points = nodes\n",
    "xx,yy = points[:,0], points[:,1]\n",
    "plt.figure(figsize=(15,8))\n",
    "plt.scatter(xx, yy)\n",
    "plt.show()"
   ]
  },
  {
   "cell_type": "markdown",
   "metadata": {},
   "source": [
    "### Create Model"
   ]
  },
  {
   "cell_type": "code",
   "execution_count": 4,
   "metadata": {},
   "outputs": [
    {
     "name": "stdout",
     "output_type": "stream",
     "text": [
      "\n",
      "--------------------------------------------\n",
      "Warning: your license will expire in 11 days\n",
      "--------------------------------------------\n",
      "\n",
      "Academic license - for non-commercial use only - expires 2021-12-28\n",
      "Using license file C:\\Users\\Student\\gurobi.lic\n"
     ]
    }
   ],
   "source": [
    "mod_MCLCP = Model(name = 'MCLCP')"
   ]
  },
  {
   "cell_type": "markdown",
   "metadata": {},
   "source": [
    "### Indices & Parameters\n",
    "\n",
    "$Lanes \\subset Arcs$\n",
    "\n",
    "$ N: $ Number of nodes\n",
    "\n",
    "$k: $ Number of carries\n",
    "\n",
    "$c_{ij}: $ cost of carrying freight from node i to j"
   ]
  },
  {
   "cell_type": "code",
   "execution_count": 5,
   "metadata": {
    "scrolled": true
   },
   "outputs": [],
   "source": [
    "N = list(range(num_cl_nodes + num_ncl_nodes))\n",
    "K = list(range(num_carriers))\n",
    "\n",
    "I = permanent_lanes.astype(int)\n",
    "II = [x for x in I.tolist()]\n",
    "I_ijk = np.zeros((len(N),len(N))).astype(int)\n",
    "for ele in I:\n",
    "    I_ijk[ele[0]][ele[1]] = I_ijk[ele[0]][ele[1]] + 1\n",
    "I_k = np.zeros((len(N),len(N),len(K))).astype(int)\n",
    "for ele in I:\n",
    "    I_k[ele[0]][ele[1]][ele[2]] = I_k[ele[0]][ele[1]][ele[2]] + 1\n",
    "\n",
    "L = transient_lanes.astype(int)\n",
    "    \n",
    "r = np.zeros((len(N),len(N))).astype(int)\n",
    "for ele in L:\n",
    "    r[ele[0]][ele[1]] = r[ele[0]][ele[1]] + 1\n",
    "    \n",
    "    \n",
    "A = np.array([[i, j] for i in range((num_cl_nodes + num_ncl_nodes)) for j in range((num_cl_nodes + num_ncl_nodes)) if i != j])\n",
    "c = distance_matrix.astype(int)\n",
    "theta = np.array([0.5,0.5])"
   ]
  },
  {
   "cell_type": "code",
   "execution_count": 6,
   "metadata": {},
   "outputs": [
    {
     "data": {
      "text/plain": [
       "array([[[0, 0],\n",
       "        [0, 0],\n",
       "        [0, 0],\n",
       "        [1, 2]],\n",
       "\n",
       "       [[1, 0],\n",
       "        [0, 0],\n",
       "        [0, 0],\n",
       "        [0, 0]],\n",
       "\n",
       "       [[0, 0],\n",
       "        [0, 0],\n",
       "        [0, 0],\n",
       "        [0, 0]],\n",
       "\n",
       "       [[0, 0],\n",
       "        [0, 0],\n",
       "        [0, 0],\n",
       "        [0, 0]]])"
      ]
     },
     "execution_count": 6,
     "metadata": {},
     "output_type": "execute_result"
    }
   ],
   "source": [
    "sum(sum(I_ijk))\n",
    "I\n",
    "I_ijk\n",
    "I_k"
   ]
  },
  {
   "cell_type": "markdown",
   "metadata": {},
   "source": [
    "### Decision Variables"
   ]
  },
  {
   "cell_type": "code",
   "execution_count": 7,
   "metadata": {},
   "outputs": [],
   "source": [
    "x = mod_MCLCP.addVars(len(N),len(N),len(K), lb = 0, ub = 2000, name = 'x', vtype = GRB.INTEGER)\n",
    "z = mod_MCLCP.addVars(len(N),len(N),len(K), lb = 0, ub = 2000, name = 'z', vtype = GRB.INTEGER)"
   ]
  },
  {
   "cell_type": "markdown",
   "metadata": {},
   "source": [
    "### Objective Function"
   ]
  },
  {
   "cell_type": "code",
   "execution_count": 8,
   "metadata": {},
   "outputs": [],
   "source": [
    "# mod_MCLCP.setObjective(quicksum(quicksum(c[ele[0]][ele[1]]*x[ele[0],ele[1],k] for ele in L) for k in K) + (quicksum(theta[k]*quicksum(c[ele[0]][ele[1]]*z[ele[0],ele[1],k] for ele in A) for k in K)), GRB.MINIMIZE)"
   ]
  },
  {
   "cell_type": "code",
   "execution_count": 9,
   "metadata": {},
   "outputs": [],
   "source": []
  },
  {
   "cell_type": "markdown",
   "metadata": {},
   "source": [
    "### Constraints"
   ]
  },
  {
   "cell_type": "code",
   "execution_count": 15,
   "metadata": {},
   "outputs": [
    {
     "data": {
      "text/plain": [
       "{(0, 0): <gurobi.Constr *Awaiting Model Update*>,\n",
       " (0, 1): <gurobi.Constr *Awaiting Model Update*>,\n",
       " (0, 2): <gurobi.Constr *Awaiting Model Update*>,\n",
       " (0, 3): <gurobi.Constr *Awaiting Model Update*>,\n",
       " (1, 0): <gurobi.Constr *Awaiting Model Update*>,\n",
       " (1, 1): <gurobi.Constr *Awaiting Model Update*>,\n",
       " (1, 2): <gurobi.Constr *Awaiting Model Update*>,\n",
       " (1, 3): <gurobi.Constr *Awaiting Model Update*>}"
      ]
     },
     "execution_count": 15,
     "metadata": {},
     "output_type": "execute_result"
    }
   ],
   "source": [
    "# # ###########  2 ########### OK\n",
    "mod_MCLCP.addConstrs(quicksum(x[i,j,k] for j in N) - quicksum(x[j,i,k] for j in N) + quicksum(z[i,j,k] for j in N) - quicksum(z[j,i,k] for j in N) == 0 for i in N for k in K)\n",
    "\n",
    "# # ###########  3 ########### OK\n",
    "mod_MCLCP.addConstrs(quicksum(x[L[ele][0],L[ele][1],k] for k in K) - I_ijk[L[ele][0]][L[ele][1]] - r[L[ele][0]][L[ele][1]] == 0 for ele in range(len(L)))\n",
    "\n",
    "# # ###########  4 ########### OK\n",
    "mod_MCLCP.addConstrs(x[I[ele][0],I[ele][1],k] - I_k[I[ele][0]][I[ele][1]][k] >= 0 for k in K for ele in range(len(I)))\n"
   ]
  },
  {
   "cell_type": "markdown",
   "metadata": {},
   "source": [
    "### Optimize"
   ]
  },
  {
   "cell_type": "code",
   "execution_count": 16,
   "metadata": {},
   "outputs": [],
   "source": [
    "# mod_MCLCP.optimize()\n",
    "\n",
    "\n",
    "# if (mod_MCLCP.Status == GRB.INFEASIBLE):\n",
    "#     print('No feasible solution')\n",
    "\n",
    "#     mod_MCLCP.computeIIS()\n",
    "#     for q in mod_MCLCP.getConstrs():\n",
    "#         if q.IISConstr:\n",
    "#             print('%s' % q.constrName)\n",
    "# elif (mod_MCLCP.status == GRB.UNBOUNDED):\n",
    "#     print('Unbounded')\n",
    "\n",
    "# elif (mod_MCLCP.status == GRB.INF_OR_UNBD):\n",
    "#     print('Infeasible or Unbounded')\n",
    "\n",
    "# elif (mod_MCLCP.Status == GRB.TIME_LIMIT) and (((mod_MCLCP.modelSense == GRB.MINIMIZE) and (mod_MCLCP.objVal > 1e30)) or ((mod_MCLCP.modelSense == GRB.MAXIMIZE) and (mod_MCLCP.objVal < -1e30))):\n",
    "#     print('No feasible solution')\n",
    "\n",
    "# else:\n",
    "#     print('Objective Function Value:', mod_MCLCP.objVal)\n",
    "\n",
    "#     if (mod_MCLCP.Status == GRB.OPTIMAL):\n",
    "#         print('\\optimal objective function value')\n",
    "#     elif (mod_MCLCP.Status == GRB.TIME_LIMIT):\n",
    "#         print('\\tTime limit reached.\\n')\n",
    "#         print('\\tBest Bound:', mod_MCLCP.ObjBound)\n",
    "\n",
    "#     print('\\nSolution:')\n",
    "#     for var in mod_MCLCP.getVars():\n",
    "#         if (abs(var.X) > mod_MCLCP.Params.INT_FEAS_TOL):\n",
    "#             print('\\t', var.VarName, \"=\", var.X)\n"
   ]
  },
  {
   "cell_type": "code",
   "execution_count": 17,
   "metadata": {},
   "outputs": [
    {
     "name": "stdout",
     "output_type": "stream",
     "text": [
      "Gurobi Optimizer version 9.1.2 build v9.1.2rc0 (win64)\n",
      "Thread count: 4 physical cores, 8 logical processors, using up to 8 threads\n",
      "Optimize a model with 36 rows, 64 columns and 216 nonzeros\n",
      "Model fingerprint: 0xbc69aebb\n",
      "Variable types: 0 continuous, 64 integer (0 binary)\n",
      "Coefficient statistics:\n",
      "  Matrix range     [1e+00, 1e+00]\n",
      "  Objective range  [5e+01, 1e+03]\n",
      "  Bounds range     [2e+03, 2e+03]\n",
      "  RHS range        [1e+00, 2e+00]\n",
      "\n",
      "Loaded MIP start from previous solve with objective 2860\n",
      "\n",
      "Presolve removed 28 rows and 27 columns\n",
      "Presolve time: 0.09s\n",
      "Presolved: 8 rows, 37 columns, 76 nonzeros\n",
      "Variable types: 0 continuous, 37 integer (0 binary)\n",
      "\n",
      "Explored 0 nodes (0 simplex iterations) in 0.11 seconds\n",
      "Thread count was 8 (of 8 available processors)\n",
      "\n",
      "Solution count 1: 2860 \n",
      "\n",
      "Optimal solution found (tolerance 1.00e-04)\n",
      "Best objective 2.860000000000e+03, best bound 2.860000000000e+03, gap 0.0000%\n",
      "Exact solution is: 2860.0\n",
      "\n",
      "\n",
      "\n",
      "\n",
      "x=  {(0, 0, 0): 0.0, (0, 0, 1): 0.0, (0, 1, 0): 0.0, (0, 1, 1): 0.0, (0, 2, 0): 0.0, (0, 2, 1): 0.0, (0, 3, 0): 1.0, (0, 3, 1): 2.0, (1, 0, 0): 1.0, (1, 0, 1): 0.0, (1, 1, 0): 0.0, (1, 1, 1): 0.0, (1, 2, 0): 0.0, (1, 2, 1): 0.0, (1, 3, 0): 0.0, (1, 3, 1): 2.0, (2, 0, 0): 0.0, (2, 0, 1): 2.0, (2, 1, 0): 1.0, (2, 1, 1): 2.0, (2, 2, 0): 0.0, (2, 2, 1): 0.0, (2, 3, 0): 1999.0, (2, 3, 1): 1996.0, (3, 0, 0): 0.0, (3, 0, 1): 0.0, (3, 1, 0): 0.0, (3, 1, 1): 0.0, (3, 2, 0): 2000.0, (3, 2, 1): 2000.0, (3, 3, 0): 0.0, (3, 3, 1): 0.0}\n",
      "\n",
      "\n",
      "\n",
      "\n",
      "z=  {(0, 0, 0): 0.0, (0, 0, 1): 0.0, (0, 1, 0): 0.0, (0, 1, 1): 0.0, (0, 2, 0): 0.0, (0, 2, 1): 0.0, (0, 3, 0): 0.0, (0, 3, 1): 0.0, (1, 0, 0): 0.0, (1, 0, 1): 0.0, (1, 1, 0): 0.0, (1, 1, 1): 0.0, (1, 2, 0): 0.0, (1, 2, 1): 0.0, (1, 3, 0): 0.0, (1, 3, 1): 0.0, (2, 0, 0): 0.0, (2, 0, 1): 0.0, (2, 1, 0): 0.0, (2, 1, 1): 0.0, (2, 2, 0): 0.0, (2, 2, 1): 0.0, (2, 3, 0): 0.0, (2, 3, 1): 0.0, (3, 0, 0): 0.0, (3, 0, 1): 0.0, (3, 1, 0): 0.0, (3, 1, 1): 0.0, (3, 2, 0): 0.0, (3, 2, 1): 0.0, (3, 3, 0): 0.0, (3, 3, 1): 0.0}\n"
     ]
    }
   ],
   "source": [
    "mod_MCLCP.optimize()\n",
    "Vars = []\n",
    "X={key:x[key].x for key in x.keys()}\n",
    "Z={key:z[key].X for key in z.keys()}\n",
    "for v in mod_MCLCP.getVars():\n",
    "    if v.x>0:\n",
    "        Vars.append(['%s %g' % (v.varName, v.x)])\n",
    "obj = mod_MCLCP.objVal\n",
    "\n",
    "print(\"Exact solution is: \" + str(obj))\n",
    "print()\n",
    "print()\n",
    "print()\n",
    "print()\n",
    "print('x= ',X)\n",
    "print()\n",
    "print()\n",
    "print()\n",
    "print()\n",
    "print('z= ',Z)"
   ]
  },
  {
   "cell_type": "code",
   "execution_count": 13,
   "metadata": {},
   "outputs": [
    {
     "name": "stdout",
     "output_type": "stream",
     "text": [
      "[[0 3 0]\n",
      " [1 0 0]\n",
      " [0 3 1]\n",
      " [0 3 1]]\n",
      "[[1 3 0]\n",
      " [1 3 1]]\n"
     ]
    }
   ],
   "source": [
    "print(I)\n",
    "print(L)"
   ]
  },
  {
   "cell_type": "code",
   "execution_count": 18,
   "metadata": {},
   "outputs": [
    {
     "data": {
      "text/plain": [
       "array([[  0, 710, 188, 103],\n",
       "       [710,   0, 538, 715],\n",
       "       [188, 538,   0, 178],\n",
       "       [103, 715, 178,   0]])"
      ]
     },
     "execution_count": 18,
     "metadata": {},
     "output_type": "execute_result"
    }
   ],
   "source": [
    "c"
   ]
  },
  {
   "cell_type": "code",
   "execution_count": null,
   "metadata": {},
   "outputs": [],
   "source": []
  }
 ],
 "metadata": {
  "kernelspec": {
   "display_name": "Python 3",
   "language": "python",
   "name": "python3"
  },
  "language_info": {
   "codemirror_mode": {
    "name": "ipython",
    "version": 3
   },
   "file_extension": ".py",
   "mimetype": "text/x-python",
   "name": "python",
   "nbconvert_exporter": "python",
   "pygments_lexer": "ipython3",
   "version": "3.7.6"
  }
 },
 "nbformat": 4,
 "nbformat_minor": 4
}
